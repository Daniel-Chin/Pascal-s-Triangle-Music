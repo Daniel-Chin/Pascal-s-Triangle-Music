{
 "cells": [
  {
   "cell_type": "markdown",
   "metadata": {},
   "source": [
    "<h1>Intro to Computer Music, Lab07</h1>\n",
    "<h2>Gus Xia, NYU Shanghai</h2>"
   ]
  },
  {
   "cell_type": "code",
   "execution_count": null,
   "metadata": {},
   "outputs": [],
   "source": []
  },
  {
   "cell_type": "markdown",
   "metadata": {},
   "source": [
    "In this lab you will:\n",
    "\n",
    "1. learn how to use pretty_midi library to generate MIDI in python\n",
    "2. We focus on the basics this week: Note-on and Note-off\n",
    "2. Use MIDI to recreate a simple composition by coding"
   ]
  },
  {
   "cell_type": "markdown",
   "metadata": {},
   "source": [
    "<h2> Load packages </h2>\n"
   ]
  },
  {
   "cell_type": "code",
   "execution_count": null,
   "metadata": {},
   "outputs": [],
   "source": [
    "# To begin using librosa we need to import it, and other tools such as matplotlib and numpy\n",
    "from pylab import *\n",
    "import pretty_midi\n",
    "import librosa             # The librosa library\n",
    "import librosa.display     # librosa's display module (for plotting features)\n",
    "import IPython.display     # IPython's display module (for in-line audio)\n",
    "import matplotlib.pyplot as plt # matplotlib plotting functions\n",
    "import matplotlib.style as ms   # plotting style\n",
    "import numpy as np              # numpy numerical functions\n",
    "ms.use('seaborn-muted')         # fancy plot designs\n",
    "from __future__ import print_function # use the print() function from Python3\n",
    "\n"
   ]
  },
  {
   "cell_type": "markdown",
   "metadata": {},
   "source": [
    "<h2>Pretty MIDI Library</h2>"
   ]
  },
  {
   "cell_type": "markdown",
   "metadata": {},
   "source": [
    "Let's first install pretty_midi: \n",
    "\n",
    "a) Download the package from https://github.com/craffel/pretty-midi\n",
    "\n",
    "b) In the terminal, go to the folder, and run \"python setup.py install\"\n",
    "\n",
    "On my Mac, step b) looks like:"
   ]
  },
  {
   "cell_type": "raw",
   "metadata": {},
   "source": [
    "macbook:~ gusxia$ cd /Users/gusxia/Downloads/pretty-midi-master\n",
    "macbook:pretty-midi-master gusxia$ python setup.py install"
   ]
  },
  {
   "cell_type": "markdown",
   "metadata": {},
   "source": [
    "Then, use pretty MIDI library to create a simple chord:"
   ]
  },
  {
   "cell_type": "code",
   "execution_count": null,
   "metadata": {},
   "outputs": [],
   "source": [
    "import pretty_midi\n",
    "# Create a PrettyMIDI object\n",
    "cello_music = pretty_midi.PrettyMIDI()\n",
    "# Create an Instrument instance for a cello instrument\n",
    "cello_program = pretty_midi.instrument_name_to_program('Cello')\n",
    "cello = pretty_midi.Instrument(program=cello_program)\n",
    "# Iterate over note names, which will be converted to note number later\n",
    "for note_name in ['C4', 'E4', 'G4','C5', 'E5', 'G5','C6']:\n",
    "    # Retrieve the MIDI note number for this note name\n",
    "    note_number = pretty_midi.note_name_to_number(note_name)\n",
    "    # Create a Note instance for this note, starting at 0s and ending at 3s\n",
    "    note = pretty_midi.Note(velocity=100, pitch=note_number, start=0, end=3)\n",
    "    # Add it to our cello instrument\n",
    "    cello.notes.append(note)\n",
    "# Add the cello instrument to the PrettyMIDI object\n",
    "cello_music.instruments.append(cello)\n",
    "# Write out the MIDI data\n",
    "cello_music.write('cello-C-chord.mid')\n"
   ]
  },
  {
   "cell_type": "markdown",
   "metadata": {},
   "source": [
    "run the code above, now you should be able to find the midi file \"cello-C-chord.mid\" in the homework folder. If you want to use another instrument, simply substitute \"Cello\" with any standard MIDI instrument. A list can be found here http://www.pgmusic.com/tutorial_gm.htm"
   ]
  },
  {
   "cell_type": "markdown",
   "metadata": {
    "collapsed": true
   },
   "source": [
    "<h2>More of Data structure:</h2>\n"
   ]
  },
  {
   "cell_type": "raw",
   "metadata": {},
   "source": [
    "Let's have a look at the object-oriented structure:"
   ]
  },
  {
   "cell_type": "code",
   "execution_count": null,
   "metadata": {},
   "outputs": [],
   "source": [
    "print(cello_music)\n",
    "print(cello_music.instruments)\n",
    "print(cello_music.instruments[0])\n",
    "print(cello)\n",
    "print(cello_music.instruments[0] == cello)"
   ]
  },
  {
   "cell_type": "markdown",
   "metadata": {
    "collapsed": true
   },
   "source": [
    "Let's look at the notes inside the cello. It is a list, where each element is a \"Note\" object."
   ]
  },
  {
   "cell_type": "code",
   "execution_count": null,
   "metadata": {},
   "outputs": [],
   "source": [
    "cello.notes"
   ]
  },
  {
   "cell_type": "markdown",
   "metadata": {},
   "source": [
    "<h2>A More Efficient Way for Music Generation:</h2>\n"
   ]
  },
  {
   "cell_type": "markdown",
   "metadata": {},
   "source": [
    "We can also see this note list as a 7 by 4 matrix, and create/manipulate the matrix by built-in numpy methods. "
   ]
  },
  {
   "cell_type": "code",
   "execution_count": null,
   "metadata": {},
   "outputs": [],
   "source": [
    "#import numpy library\n",
    "from pylab import *\n",
    "%matplotlib inline \n",
    "\n",
    "# create a 3 * 4 matrix, with initial values 0\n",
    "note_matrix = matrix(zeros((7,4)))\n",
    "print (\"initial matrix is:\\n\", note_matrix)\n",
    "### fill the matrix. \n",
    "# For a matrix M, numpy uses M[row_index, colume_index] to access the element\n",
    "# M[:, column_index] returns an entire colume, and the same principle applies to \n",
    "# M[row_index, :]\n",
    "note_matrix[:,2] = matrix([60,64,67,72,76,79,84]).T #.T is transpose\n",
    "# start, end, and velocity. This assignment can be done in one line\n",
    "# Note that the initial index is 0\n",
    "note_matrix[:,[0,1,3]] = [0,3,100]\n",
    "print (\"now the matrix is:\\n\", note_matrix)"
   ]
  },
  {
   "cell_type": "markdown",
   "metadata": {},
   "source": [
    "Two handy functions: We can then call the following function to transfer the matrix back to \"pretty_midi note\" and display the piano roll."
   ]
  },
  {
   "cell_type": "code",
   "execution_count": null,
   "metadata": {},
   "outputs": [],
   "source": [
    "# The next line makes all plots appear in the notebook, instead of a separate pop-up window\n",
    "%matplotlib inline\n",
    "# visualize score\n",
    "def show_score(S, fs = 100):\n",
    "    imshow(S, aspect='auto', origin='bottom', interpolation='nearest', cmap=cm.gray_r)\n",
    "    xlabel('Time')\n",
    "    ylabel('Pitch')\n",
    "    pc=array(['C','C#','D','Eb','E','F','F#','G','Ab','A','Bb','B'])\n",
    "    idx = tile([0,4,7],13)[:128]\n",
    "    yticks(arange(0,128,4),pc[idx], fontsize=5)\n",
    "    xticks(arange(0,S.shape[1],fs),arange(0,S.shape[1],fs)/fs, )     \n",
    "def matrix2notes(m):\n",
    "    # first sort the matrix to make sure starting time is in order\n",
    "    m = array(m)\n",
    "    m = m[argsort(m[:,0]),:]\n",
    "    # transfer the databack to note list\n",
    "    notes=[pretty_midi.Note(start=m[i,0], end=m[i,1], pitch=int(m[i,2]), velocity= int(m[i,3]) ) \n",
    "                            for i in range(size(m,0))]\n",
    "    return notes\n"
   ]
  },
  {
   "cell_type": "code",
   "execution_count": null,
   "metadata": {
    "scrolled": false
   },
   "outputs": [],
   "source": [
    "length = size(note_matrix,0)\n",
    "# change starting time, ending time, and velocity by one line command\n",
    "note_matrix[:,[0,1,3]] = matrix([[x for x in range(length)],\n",
    "                                 [x+1 for x in range(length)],\n",
    "                                 [100- x**2.5 for x in range(length)]]).T\n",
    "print (\"we've got an arpeggio with decreasing velocity:\\n\", note_matrix)\n",
    "cello.notes = matrix2notes(note_matrix)\n",
    "# show_score(cello_music.get_piano_roll(fs = 10), fs = 10)\n",
    "show_score(cello_music.get_piano_roll())\n",
    "wave = cello.synthesize(fs = 44100)\n",
    "IPython.display.Audio(data=wave, rate=44100) # press the \"play\" button to hear audio\n"
   ]
  },
  {
   "cell_type": "markdown",
   "metadata": {},
   "source": [
    "<h4>Pitch bends</h4>\n"
   ]
  },
  {
   "cell_type": "markdown",
   "metadata": {},
   "source": [
    "Since MIDI notes are all defined to have a specific integer pitch value, in order to represent arbitrary pitch frequencies we need to use pitch bends. A PitchBend class in pretty_midi holds a time (in seconds) and a pitch offset. The pitch offset is an integer in the range [-8192, 8191], which in General MIDI spans the range from -2 to +2 semitones. As with Notes, the Instrument class has a list for PitchBend class instances."
   ]
  },
  {
   "cell_type": "code",
   "execution_count": null,
   "metadata": {},
   "outputs": [],
   "source": [
    "# try to add only one pitch bend msg\n",
    "print(cello.pitch_bends)\n",
    "cello.pitch_bends.append(pretty_midi.PitchBend(8192/2, 0.5))"
   ]
  },
  {
   "cell_type": "markdown",
   "metadata": {},
   "source": [
    "adding lots of pitch bend in a row"
   ]
  },
  {
   "cell_type": "code",
   "execution_count": null,
   "metadata": {},
   "outputs": [],
   "source": [
    "# how about adding a lot\n",
    "for t in arange(0,7,0.01):\n",
    "    cello.pitch_bends.append(pretty_midi.PitchBend(int(8192*(t % 1)), t))\n",
    "\n",
    "show_score(cello_music.get_piano_roll())\n",
    "wave = cello.synthesize(fs = 44100)\n",
    "IPython.display.Audio(data=wave, rate=44100) # press the \"play\" button to hear audio\n"
   ]
  },
  {
   "cell_type": "markdown",
   "metadata": {},
   "source": [
    "<h4>fractal music</h4>\n"
   ]
  },
  {
   "cell_type": "code",
   "execution_count": null,
   "metadata": {},
   "outputs": [],
   "source": [
    "# a simple fractal music funtion which returns a note matrix \n",
    "Trans = 7\n",
    "Vel = 100\n",
    "def fractal_music(start, end, layers, base):\n",
    "    # print (start, end, layers, base)\n",
    "    if layers > 1:\n",
    "        return concatenate((fractal_music(start,(start + end)/2.,layers-1,base + Trans),\n",
    "                            fractal_music((start+end)/2.,end,layers-1,base + Trans + 3),\n",
    "                            fractal_music(start,end,1,base)),0)\n",
    "    else:\n",
    "        return matrix([start, end, base, Vel])\n",
    "\n",
    "# create an 8 secs fractal music with 5 layers. The base note is 48.\n",
    "note_matrix = fractal_music(0,8,9,40)\n",
    "cello.notes = matrix2notes(note_matrix)\n",
    "cello.pitch_bends = []\n",
    "# write the file\n",
    "cello_music.write('simple-fractal.mid')\n",
    "show_score(cello_music.get_piano_roll())\n",
    "wave = cello.synthesize(fs = 44100)\n",
    "IPython.display.Audio(data=wave, rate=44100) # press the \"play\" button to hear audio\n"
   ]
  },
  {
   "cell_type": "markdown",
   "metadata": {},
   "source": [
    "<h2> To do:</h2>"
   ]
  },
  {
   "cell_type": "markdown",
   "metadata": {},
   "source": [
    "1. Try to create your own fractal music\n",
    "2. Try to add pitch bend into your music in a creative way\n",
    "3. Optional: Try some other \"deterministic algorithms\" (page 14&15) covered in class\n",
    "3. To be continued in Lab07-extend\n"
   ]
  },
  {
   "cell_type": "code",
   "execution_count": null,
   "metadata": {
    "scrolled": false
   },
   "outputs": [],
   "source": [
    "# 杨辉三角\n",
    "# Kinda fractal, kinda deterministic. \n",
    "\n",
    "yhMusic = pretty_midi.PrettyMIDI()\n",
    "cello_program = pretty_midi.instrument_name_to_program('music box')\n",
    "cello = pretty_midi.Instrument(program=cello_program)\n",
    "yhMusic.instruments.append(cello)\n",
    "drum = pretty_midi.Instrument(program=115)\n",
    "yhMusic.instruments.append(drum)\n",
    "\n",
    "MOD = 21\n",
    "MEASURES = 136\n",
    "SLOW = 1.7\n",
    "\n",
    "def num2pitch(num):\n",
    "    step = num % 7\n",
    "    height = num // 7\n",
    "    step_ = {0:0,\n",
    "            1:2,\n",
    "            2:4,\n",
    "            3:6,\n",
    "            4:7,\n",
    "            5:9,\n",
    "            6:11}[step]\n",
    "    return 55 - 2 + height * 12 + step_\n",
    "\n",
    "def num2pitch(num):\n",
    "    step = num % 5\n",
    "    height = num // 5\n",
    "    step_ = {0:0,\n",
    "            1:2,\n",
    "            2:4,\n",
    "            3:7,\n",
    "            4:9}[step]\n",
    "    return 55 - 2 + height * 12 + step_\n",
    "\n",
    "def num2pitch(num):\n",
    "    step = num % 12\n",
    "    height = num // 12\n",
    "    return 55 - 2 + height * 12 + step\n",
    "\n",
    "def num2pitch(num):\n",
    "    step = num % 8\n",
    "    height = num // 8\n",
    "    step_ = {0:0,\n",
    "            1:2,\n",
    "            2:4,\n",
    "            3:5,\n",
    "            4:6,\n",
    "            5:7,\n",
    "            6:9,\n",
    "            7:11}[step]\n",
    "    return 55 - 2 + height * 12 + step_\n",
    "\n",
    "def num2pitch(num):\n",
    "    step = num % 4\n",
    "    height = num // 4\n",
    "    step_ = {0:5,\n",
    "            1:7,\n",
    "            2:11,\n",
    "            3:14}[step]\n",
    "    return 48 + height * 12 + step_\n",
    "\n",
    "def doTake(measure):\n",
    "    return True\n",
    "    if measure <= 17:\n",
    "        return True\n",
    "    if measure in range(24, 38):\n",
    "        return True\n",
    "    if measure in range(46, 64):\n",
    "        return True\n",
    "    if measure in range(77, 81):\n",
    "        return True\n",
    "    if measure in range(96, 111):\n",
    "        return True\n",
    "    return False\n",
    "\n",
    "last_line = [1]\n",
    "last_len = 1\n",
    "notes=[]\n",
    "real_m = 0\n",
    "for measure in range(MEASURES):\n",
    "    line = [1]\n",
    "    for i in range(last_len - 1):\n",
    "        line.append((last_line[i]+last_line[i+1]) % MOD)\n",
    "    line.append(1)\n",
    "    now_len = last_len + 1\n",
    "    if doTake(measure):\n",
    "        real_m += 1\n",
    "        last_pitch = None\n",
    "        for i, num in enumerate(line[:-1]):\n",
    "            if i == 0:\n",
    "                vel = 100;\n",
    "            else:\n",
    "                vel = 60;\n",
    "            pit = num2pitch(num)\n",
    "            notes.append([vel, pit, SLOW*(real_m + i/(now_len-1)), \n",
    "                                    SLOW*(real_m + (i+1)/(now_len-1))])\n",
    "            if last_pitch is not None:\n",
    "                if last_pitch == pit:\n",
    "                    notes.pop(-1)\n",
    "                    notes[-1][3] = SLOW*(real_m + (i+1)/(now_len-1))\n",
    "            last_pitch = pit\n",
    "    last_line = line\n",
    "    last_len = now_len\n",
    "for note in notes:\n",
    "    cello.notes.append(pretty_midi.Note(*note))\n",
    "\n",
    "for i in range(real_m):\n",
    "    drum.notes.append(pretty_midi.Note(100, 30, SLOW * i, SLOW * (i+1)))\n",
    "    drum.notes.append(pretty_midi.Note(60, 40, SLOW * (i+.5), SLOW * (i+1)))\n",
    "\n",
    "yhMusic.write('yh.mid')\n",
    "# wave = cello.synthesize(fs = 44100)\n",
    "# IPython.display.Audio(data=wave, rate=22050) # press the \"play\" button to hear audio"
   ]
  }
 ],
 "metadata": {
  "anaconda-cloud": {},
  "kernelspec": {
   "display_name": "Python 3",
   "language": "python",
   "name": "python3"
  },
  "language_info": {
   "codemirror_mode": {
    "name": "ipython",
    "version": 3
   },
   "file_extension": ".py",
   "mimetype": "text/x-python",
   "name": "python",
   "nbconvert_exporter": "python",
   "pygments_lexer": "ipython3",
   "version": "3.6.10"
  }
 },
 "nbformat": 4,
 "nbformat_minor": 1
}
